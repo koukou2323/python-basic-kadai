{
  "nbformat": 4,
  "nbformat_minor": 0,
  "metadata": {
    "colab": {
      "provenance": []
    },
    "kernelspec": {
      "name": "python3",
      "display_name": "Python 3"
    },
    "language_info": {
      "name": "python"
    }
  },
  "cells": [
    {
      "cell_type": "code",
      "source": [
        "def tax_included(post_tax,tax_percent):\n",
        "  return post_tax*(1+tax_percent/100)"
      ],
      "metadata": {
        "id": "OtRtfQ6oOPxY"
      },
      "execution_count": 19,
      "outputs": []
    }
  ]
}